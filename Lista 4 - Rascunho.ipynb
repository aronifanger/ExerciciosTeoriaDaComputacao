{
 "cells": [
  {
   "cell_type": "markdown",
   "metadata": {},
   "source": [
    "# Teoria da Computação\n",
    "\n",
    "### Quarta lista de exercícios\n",
    "#### Máquina de Mealy e Máquina de Moore\n",
    "#### Prof. Dr. Márcio Basgalupp\n",
    "\n",
    "\n",
    "\n",
    "Aron Ifanger Maciel, 17 de abril de 2018"
   ]
  },
  {
   "cell_type": "markdown",
   "metadata": {},
   "source": [
    "### Exercício 1\n",
    "\n",
    "*Defina formalmente a função programa estendida para as Máquinas de Mealy e de Moore.*"
   ]
  },
  {
   "cell_type": "markdown",
   "metadata": {},
   "source": [
    "#### Resposta:\n",
    "\n",
    "A **Máquina de Mealy** é definida como uma 6-upla:\n",
    "\n",
    "<center> $ M = (\\Sigma, Q, \\delta, q_0, F, \\Delta) $ </center>\n",
    "\n",
    "onde:\n",
    "\n",
    "* $\\Sigma$: é um alfabeto de síbolos de entrada;\n",
    "* $Q$: conjunto de estados possíveis;\n",
    "* $\\delta$: função programa, **definida como: \n",
    "<br> <center> $ \\delta: Q \\times \\Sigma \\rightarrow Q \\times \\Delta^* $** </center>\n",
    "* $q_0$: estado inicial;\n",
    "* $F$: conjunto de estados finais;\n",
    "* $\\Delta$: alfabeto de símbolos de saída.\n",
    "\n",
    "A **Máquina de Moore** é definida como uma 7-upla:\n",
    "\n",
    "<center> $ M = (\\Sigma, Q, \\delta, q_0, F, \\Delta, \\delta_S) $ </center>\n",
    "\n",
    "onde:\n",
    "\n",
    "* $\\Sigma$: é um alfabeto de síbolos de entrada;\n",
    "* $Q$: conjunto de estados possíveis;\n",
    "* $\\delta$: função programa, **definida como: \n",
    "<br> <center> $ \\delta: Q \\times \\Sigma \\rightarrow Q $** </center>\n",
    "* $q_0$: estado inicial;\n",
    "* $F$: conjunto de estados finais;\n",
    "* $\\Delta$: alfabeto de símbolos de saída.\n",
    "* $\\delta_S$: função de saída, **definida como: \n",
    "<br> <center>$ \\delta_S: Q \\rightarrow \\Delta^* $ **</center>\n"
   ]
  },
  {
   "cell_type": "markdown",
   "metadata": {},
   "source": [
    "### Exercício 2\n",
    "\n",
    "*Desenvolva uma Máquina de Mealy e uma de Moore que realizem a conversão da repreentação de valores monetários de dólares para reais. Por exemplo, dado o valor US\\$25,010.59 deve ser gravado o valor R\\$25.010,59 na fita de saída (atenção para o uso da vírgula e do ponto nos dois valores). Adicionalmente, os autômatos deve verificar se a entrada é um valor monetário válido.*"
   ]
  },
  {
   "cell_type": "markdown",
   "metadata": {},
   "source": [
    "### Exercício 3\n",
    "\n",
    "*Considere o exemplo de diálogo apresentado para a Máquina de Mealy:*\n",
    "    \n",
    "*a. Desenvolva uma Máquina de Moore que realize o mesmo processamento*"
   ]
  },
  {
   "cell_type": "markdown",
   "metadata": {},
   "source": [
    "### Exercício 4\n",
    "\n",
    "*Desenvolva um programa de computador que simule o processamento de qualquer Autômato Finito Determinístico, como segue:*\n",
    "\n",
    "*a. Entrada: função de transição $ \\delta $, estado inicial, conjunto de estados finais e as palavras a serem processadas;*\n",
    "   \n",
    "*b. Saída: condição de parada ACEITA/REJEITA e identificação do estado de parada.*\n",
    "    \n"
   ]
  },
  {
   "cell_type": "code",
   "execution_count": 3,
   "metadata": {},
   "outputs": [],
   "source": [
    "# Implementação de uma classe estado\n",
    "\n",
    "class Estado(object):\n",
    "    \n",
    "    def __init__(self, nome, inicial = False, final = False):\n",
    "        self.nome = nome\n",
    "        self.transicao = dict()\n",
    "        self.inicial = inicial\n",
    "        self.final = final\n",
    "    \n",
    "    def criaTransicao(self, palavra, estado):\n",
    "        print(\"Criando transicao para o automato %s: {%s: %s}\"%(self.nome, palavra, estado.nome))\n",
    "        self.transicao.update({palavra:estado})\n",
    "        \n",
    "    def processa(self, palavra):\n",
    "        return(self.transicao[palavra])\n",
    "    \n",
    "    def imprime(self):\n",
    "        tipo = {(True, True): \"inicial e final\", (True, False): \"inicial\", (False, True): \"final\", (False, False): \"\"}\n",
    "        print(\"Estado %s %s. Mapa: %s\"%(self.nome, tipo[(self.inicial, self.final)], self.transicao))"
   ]
  },
  {
   "cell_type": "code",
   "execution_count": 211,
   "metadata": {},
   "outputs": [
    {
     "name": "stdout",
     "output_type": "stream",
     "text": [
      "Criando transicao para o automato q1: {a: q2}\n",
      "Criando transicao para o automato q2: {b: q1}\n"
     ]
    },
    {
     "data": {
      "text/plain": [
       "'q1'"
      ]
     },
     "execution_count": 211,
     "metadata": {},
     "output_type": "execute_result"
    }
   ],
   "source": [
    "# Exemplo de uso da classe estado\n",
    "\n",
    "q1 = Estado(\"q1\")\n",
    "q2 = Estado(\"q2\")\n",
    "\n",
    "q1.criaTransicao(\"a\", q2)\n",
    "q2.criaTransicao(\"b\", q1)\n",
    "\n",
    "q1.processa(\"a\").processa(\"b\").nome"
   ]
  },
  {
   "cell_type": "code",
   "execution_count": 230,
   "metadata": {
    "collapsed": true
   },
   "outputs": [],
   "source": [
    "# Implementação da classe Automato\n",
    "\n",
    "class Automato(object):\n",
    "    \n",
    "    def __init__(self, func_transicao, estado_inicial, estados_finais):\n",
    "        self.func_transicao = func_transicao\n",
    "        self.estado_inicial = estado_inicial\n",
    "        self.estados_finais = estados_finais\n",
    "        \n",
    "        self.nome_estados = list(set([estado_inicial] + [t for trans in list(func_transicao.values()) for t in list(trans.values())]))\n",
    "        self.estados = [Estado(n, n == estado_inicial, n in estados_finais) for n in self.nome_estados]\n",
    "        self.mapa_estados = dict(zip(self.nome_estados, self.estados))\n",
    "        \n",
    "        for estado in func_transicao:\n",
    "            for transicao in func_transicao[estado]:\n",
    "                self.mapa_estados[estado].criaTransicao(transicao, self.mapa_estados[func_transicao[estado][transicao]])\n",
    "        \n",
    "        self.estado_atual = mapa_estados[estado_inicial]\n",
    "        \n",
    "    def criaTransicoes(self, estado, dict_trans):\n",
    "        [estado.criaTransicao(t, dict_trans[t]) for t in dict_trans]\n",
    "    \n",
    "    def processa(self, palavra):\n",
    "        self.estado_atual = self.estado_atual.processa(palavra)"
   ]
  },
  {
   "cell_type": "code",
   "execution_count": 231,
   "metadata": {},
   "outputs": [],
   "source": [
    "estado_inicial = \"q0\"\n",
    "estados_finais = [\"q1\", \"q2\"]\n",
    "func_transicao = {\n",
    "    \"q0\":{\"a\": \"q1\"},\n",
    "    \"q1\":{\"a\": \"q2\", \"b\": \"q2\"},\n",
    "    \"q2\":{\"b\": \"q1\"}\n",
    "}\n",
    "palavras = [\"a\", \"b\", \"b\"]"
   ]
  },
  {
   "cell_type": "code",
   "execution_count": 1,
   "metadata": {},
   "outputs": [],
   "source": [
    "def processa_palavra(func_transicao, estado_inicial, estados_finais, palavras):\n",
    "    automato = Automato(func_transicao, estado_inicial, estados_finais)\n",
    "    \n",
    "    for palavra in palavras:\n",
    "        automato.processa(palavra)\n",
    "\n",
    "    return(\"ACEITA\" if automato.estado_atual.final else \"REJEITA\")"
   ]
  },
  {
   "cell_type": "code",
   "execution_count": 2,
   "metadata": {},
   "outputs": [
    {
     "ename": "NameError",
     "evalue": "name 'func_transicao' is not defined",
     "output_type": "error",
     "traceback": [
      "\u001b[1;31m---------------------------------------------------------------------------\u001b[0m",
      "\u001b[1;31mNameError\u001b[0m                                 Traceback (most recent call last)",
      "\u001b[1;32m<ipython-input-2-7aefa1dc62ab>\u001b[0m in \u001b[0;36m<module>\u001b[1;34m()\u001b[0m\n\u001b[1;32m----> 1\u001b[1;33m \u001b[0mprocessa_palavra\u001b[0m\u001b[1;33m(\u001b[0m\u001b[0mfunc_transicao\u001b[0m\u001b[1;33m,\u001b[0m \u001b[0mestado_inicial\u001b[0m\u001b[1;33m,\u001b[0m \u001b[0mestados_finais\u001b[0m\u001b[1;33m,\u001b[0m \u001b[0mpalavras\u001b[0m\u001b[1;33m)\u001b[0m\u001b[1;33m\u001b[0m\u001b[0m\n\u001b[0m",
      "\u001b[1;31mNameError\u001b[0m: name 'func_transicao' is not defined"
     ]
    }
   ],
   "source": [
    "processa_palavra(func_transicao, estado_inicial, estados_finais, palavras)"
   ]
  },
  {
   "cell_type": "markdown",
   "metadata": {},
   "source": [
    "## Implementação da função que processa um AFD"
   ]
  },
  {
   "cell_type": "code",
   "execution_count": 72,
   "metadata": {},
   "outputs": [],
   "source": [
    "def afd(funcaoTransicao, estadoInicial, estadosFinais, palavra):\n",
    "    estadoAtual = estadoInicial\n",
    "    \n",
    "    for letra in palavra:\n",
    "        try: estadoAtual = funcaoTransicao[estadoAtual][letra]\n",
    "        except: return(\"REJEITA\", estadoAtual, letra)\n",
    "    \n",
    "    return(\"ACEITA\" if estadoAtual in estadosFinais else \"REJEITA\")"
   ]
  },
  {
   "cell_type": "markdown",
   "metadata": {},
   "source": [
    "## Exemplo de uso para reconhecimento de palavras com número par de 'a' e de 'b'"
   ]
  },
  {
   "cell_type": "code",
   "execution_count": 73,
   "metadata": {},
   "outputs": [
    {
     "name": "stdout",
     "output_type": "stream",
     "text": [
      "ACEITA\n"
     ]
    }
   ],
   "source": [
    "funcaoTransicao = {\n",
    "    \"q0\": {\"a\": \"q1\", \"b\": \"q2\"},\n",
    "    \"q1\": {\"a\": \"q0\", \"b\": \"q3\"},\n",
    "    \"q2\": {\"a\": \"q3\", \"b\": \"q0\"},\n",
    "    \"q3\": {\"a\": \"q2\", \"b\": \"q1\"},\n",
    "}\n",
    "estadoInicial = \"q0\"\n",
    "estadosFinais = [\"q0\"]\n",
    "palavra = \"abba\"\n",
    "\n",
    "print(afd(funcaoTransicao, estadoInicial, estadosFinais, palavra))"
   ]
  },
  {
   "cell_type": "markdown",
   "metadata": {},
   "source": [
    "## Implementação da função que simula a Máquina de Moore"
   ]
  },
  {
   "cell_type": "code",
   "execution_count": 179,
   "metadata": {},
   "outputs": [],
   "source": [
    "def moore(funcaoTransicao, estadoInicial, estadosFinais, funcaoSaida, palavra):\n",
    "    estadoAtual = estadoInicial\n",
    "    saida = \"\"\n",
    "    for letra in palavra:\n",
    "        try: estadoAtual = funcaoTransicao[estadoAtual][letra]\n",
    "        except: return(\"REJEITA: %s\"% palavra)\n",
    "        try: saida += str(funcaoSaida[estadoAtual])\n",
    "        except: None\n",
    "    \n",
    "    return(\"ACEITA: %s -> %s\"%(palavra, saida) if estadoAtual in estadosFinais else \"REJEITA\")"
   ]
  },
  {
   "cell_type": "markdown",
   "metadata": {},
   "source": [
    "## Exemplo de uso da Máquina de Moore\n",
    "Uma vez que a Máquina de Moore faz as impressões nos estados, é necessário que exista um estado para cada possível impressão do alfabeto, gerando a necessidade de gerar muitos estados para produzir o resultado esperado. Em função disto foram implementadas algumas funções que auxiliam a geração das funções de transição para cada um destes estados."
   ]
  },
  {
   "cell_type": "code",
   "execution_count": 182,
   "metadata": {},
   "outputs": [
    {
     "name": "stdout",
     "output_type": "stream",
     "text": [
      "ACEITA: US$123,100.09 -> R$123.100,09\n",
      "ACEITA: US$6,254.18 -> R$6.254,18\n",
      "ACEITA: US$23.27 -> R$23,27\n",
      "ACEITA: US$8.53 -> R$8,53\n",
      "ACEITA: US$0.53 -> R$0,53\n",
      "REJEITA: US$,100.09\n",
      "REJEITA: U$6,254.18\n",
      "REJEITA: S$23.27\n",
      "REJEITA: $8.53\n",
      "REJEITA: R$0.53\n",
      "REJEITA: R$0.541\n"
     ]
    }
   ],
   "source": [
    "# Gera um estado para cada elemento da lista de caractere \n",
    "# Exemplo: geraDictMoore(\"q3\", range(10),\"q4\") gera o seguinte dicionário:\n",
    "# {'q3': {'0': 'q4-0', '1': 'q4-1', '2': 'q4-2', '3': 'q4-3', '4': 'q4-4', \n",
    "#         '5': 'q4-5', '6': 'q4-6', '7': 'q4-7', '8': 'q4-8', '9': 'q4-9'}}\n",
    "def geraDictMoore(chave, listaCaractere, valor, adicional = []): \n",
    "    return({chave:dict([(str(i),valor+\"-\"+str(i)) for i in listaCaractere] + adicional)})\n",
    "\n",
    "# Gera os caracteres de saída\n",
    "# Exemplo: geraSaidaMoore(\"q4\") gera o seguinte dicionário\n",
    "# {'q4-0': 0,'q4-1': 1,'q4-2': 2,'q4-3': 3,'q4-4': 4,'q4-5': 5,'q4-6': 6,'q4-7': 7,'q4-8': 8,'q4-9': 9}\n",
    "def geraSaidaMoore(chave, lista = range(10)): \n",
    "    return(dict([(\"%s-%d\"%(chave,i), i) for i in lista]))\n",
    "\n",
    "# Criação do dicinário que representa as funções de transição para a conversão da representação dos valores monetários \n",
    "# (Exercício 2)\n",
    "ft = {}\n",
    "ft.update({\"q0\":{\"U\":\"q1\"}})\n",
    "ft.update({\"q1\":{\"S\":\"q2\"}})\n",
    "ft.update({\"q2\":{\"$\":\"q3\"}})\n",
    "ft.update(geraDictMoore(\"q3\", range(10),\"q4\"))\n",
    "for estado in ft[\"q3\"].values(): ft.update(geraDictMoore(estado, range(10),\"q5\",[(\",\",\"q7\"),(\".\",\"q10\")]))\n",
    "for estado in ft[\"q4-1\"].values(): ft.update(geraDictMoore(estado, range(10),\"q6\",[(\",\",\"q7\"),(\".\",\"q10\")]))\n",
    "for estado in ft[\"q5-1\"].values(): ft.update(geraDictMoore(estado, [],\"\",[(\",\",\"q7\"),(\".\",\"q10\")]))\n",
    "ft.update(geraDictMoore(\"q7\", range(10),\"q8\"))\n",
    "for estado in ft[\"q7\"].values(): ft.update(geraDictMoore(estado, range(10), \"q9\"))\n",
    "for estado in ft[\"q8-1\"].values(): ft.update(geraDictMoore(estado, range(10), \"q6\"))\n",
    "ft.update(geraDictMoore(\"q10\", range(10),\"q11\"))\n",
    "for estado in ft[\"q10\"].values(): ft.update(geraDictMoore(estado, range(10), \"q12\"))\n",
    "\n",
    "# Criação do dicinário que gera a saída para o exercício de conversão da representação dos valores monetários \n",
    "# Este dicionário atribui a cada estado, um possível caractere de impressão. \n",
    "fs = {}\n",
    "fs.update({\"q2\":\"R\"})\n",
    "fs.update({\"q3\":\"$\"})\n",
    "fs.update(geraSaidaMoore(\"q4\"))\n",
    "fs.update(geraSaidaMoore(\"q5\"))\n",
    "fs.update(geraSaidaMoore(\"q6\"))\n",
    "fs.update({\"q7\":\".\", \"q10\":\",\"})\n",
    "fs.update(geraSaidaMoore(\"q8\"))\n",
    "fs.update(geraSaidaMoore(\"q9\"))\n",
    "fs.update(geraSaidaMoore(\"q11\"))\n",
    "fs.update(geraSaidaMoore(\"q12\"))\n",
    "\n",
    "estadoInicial = \"q0\"\n",
    "estadosFinais = geraDictMoore(\"q11\", range(10), \"q12\")[\"q11\"].values()\n",
    "\n",
    "# Exemplos de casos que são aceitos pela Márquina de Moore deste exercício\n",
    "print(moore(ft, estadoInicial, estadosFinais, fs, palavra = \"US$123,100.09\"))\n",
    "print(moore(ft, estadoInicial, estadosFinais, fs, palavra = \"US$6,254.18\"))\n",
    "print(moore(ft, estadoInicial, estadosFinais, fs, palavra = \"US$23.27\"))\n",
    "print(moore(ft, estadoInicial, estadosFinais, fs, palavra = \"US$8.53\"))\n",
    "print(moore(ft, estadoInicial, estadosFinais, fs, palavra = \"US$0.53\"))\n",
    "\n",
    "# Exemplos de casos que são aceitos pela Márquina de Moore deste exercício\n",
    "print(moore(ft, estadoInicial, estadosFinais, fs, palavra = \"US$,100.09\"))\n",
    "print(moore(ft, estadoInicial, estadosFinais, fs, palavra = \"U$6,254.18\"))\n",
    "print(moore(ft, estadoInicial, estadosFinais, fs, palavra = \"S$23.27\"))\n",
    "print(moore(ft, estadoInicial, estadosFinais, fs, palavra = \"$8.53\"))\n",
    "print(moore(ft, estadoInicial, estadosFinais, fs, palavra = \"R$0.53\"))\n",
    "print(moore(ft, estadoInicial, estadosFinais, fs, palavra = \"R$0.541\"))"
   ]
  },
  {
   "cell_type": "markdown",
   "metadata": {},
   "source": [
    "## Implementação da função que simula a Máquina de Mealy"
   ]
  },
  {
   "cell_type": "code",
   "execution_count": 203,
   "metadata": {},
   "outputs": [],
   "source": [
    "def moore(funcaoTransicao, estadoInicial, estadosFinais, funcaoSaida, palavra):\n",
    "    estadoAtual = estadoInicial\n",
    "    saida = \"\"\n",
    "    for letra in palavra:\n",
    "        try: saida += str(funcaoSaida[(estadoAtual, letra)])\n",
    "        except: None\n",
    "        try: estadoAtual = funcaoTransicao[estadoAtual][letra]\n",
    "        except: return(\"REJEITA: %s\"% palavra)\n",
    "    \n",
    "    return(\"ACEITA: %s -> %s\"%(palavra, saida) if estadoAtual in estadosFinais else \"REJEITA\")"
   ]
  },
  {
   "cell_type": "markdown",
   "metadata": {},
   "source": [
    "## Exemplo de uso da Máquina de Mealy\n",
    "Para facilitar a geração das funções de transição, também foram implementadas funções auxiliares."
   ]
  },
  {
   "cell_type": "code",
   "execution_count": 216,
   "metadata": {},
   "outputs": [
    {
     "name": "stdout",
     "output_type": "stream",
     "text": [
      "ACEITA: US$123,100.09 -> R$123.100,09\n",
      "ACEITA: US$6,254.18 -> R$6.254,18\n",
      "ACEITA: US$23.27 -> R$23,27\n",
      "ACEITA: US$8.53 -> R$8,53\n",
      "ACEITA: US$0.53 -> R$0,53\n",
      "REJEITA: US$,100.09\n",
      "REJEITA: U$6,254.18\n",
      "REJEITA: S$23.27\n",
      "REJEITA: $8.53\n",
      "REJEITA: R$0.53\n",
      "REJEITA: R$0.541\n"
     ]
    }
   ],
   "source": [
    "def geraDictMealy(chave, listaLetras = [], valor = \"\", adicional = []):\n",
    "    return({chave: dict([(str(letra), valor) for letra in listaLetras] + adicional)})\n",
    "\n",
    "def geraSaidaMealy(chave, listaLetra = range(10)):\n",
    "    return(dict([((chave, str(letra)), str(letra)) for letra in listaLetra]))\n",
    "\n",
    "# Criação do dicinário que representa as funções de transição para a conversão da representação dos valores monetários \n",
    "# (Exercício 2)\n",
    "ft = {}\n",
    "ft.update({\"q0\":{\"U\":\"q1\"}})\n",
    "ft.update({\"q1\":{\"S\":\"q2\"}})\n",
    "ft.update({\"q2\":{\"$\":\"q3\"}})\n",
    "ft.update(geraDictMealy(\"q3\", range(10), \"q4\"))\n",
    "ft.update(geraDictMealy(\"q4\", range(10), \"q5\", [(\",\",\"q7\"),(\".\",\"q10\")]))\n",
    "ft.update(geraDictMealy(\"q5\", range(10), \"q6\", [(\",\",\"q7\"),(\".\",\"q10\")]))\n",
    "ft.update(geraDictMealy(\"q6\", adicional = [(\",\",\"q7\"),(\".\",\"q10\")]))\n",
    "ft.update(geraDictMealy(\"q7\", range(10),\"q8\"))\n",
    "ft.update(geraDictMealy(\"q8\", range(10), \"q9\"))\n",
    "ft.update(geraDictMealy(\"q9\", range(10), \"q6\"))\n",
    "ft.update(geraDictMealy(\"q10\", range(10), \"q11\"))\n",
    "ft.update(geraDictMealy(\"q11\", range(10), \"q12\"))\n",
    "\n",
    "# Criação do dicinário que gera a saída para o exercício de conversão da representação dos valores monetários \n",
    "# Este dicionário atribui a cada estado, um possível caractere de impressão. \n",
    "fs = {}\n",
    "fs.update({(\"q1\",\"S\"):\"R\"})\n",
    "fs.update({(\"q2\",\"$\"):\"$\"})\n",
    "fs.update(geraSaidaMealy(\"q3\"))\n",
    "fs.update({(\"q3\", \",\"):\".\", (\"q3\", \".\"):\",\"})\n",
    "fs.update(geraSaidaMealy(\"q4\"))\n",
    "fs.update({(\"q4\", \",\"):\".\", (\"q4\", \".\"):\",\"})\n",
    "fs.update(geraSaidaMealy(\"q5\"))\n",
    "fs.update({(\"q5\", \",\"):\".\", (\"q5\", \".\"):\",\"})\n",
    "fs.update({(\"q6\",\",\"):\".\", (\"q6\",\".\"):\",\"})\n",
    "fs.update(geraSaidaMealy(\"q7\"))\n",
    "fs.update(geraSaidaMealy(\"q8\"))\n",
    "fs.update(geraSaidaMealy(\"q9\"))\n",
    "fs.update(geraSaidaMealy(\"q10\"))\n",
    "fs.update({(\"q10\",\",\"):\".\", (\"q10\",\".\"):\",\"})\n",
    "fs.update(geraSaidaMealy(\"q11\"))\n",
    "\n",
    "estadoInicial = \"q0\"\n",
    "estadosFinais = geraDictMealy(\"q11\", range(10), \"q12\")[\"q11\"].values()\n",
    "\n",
    "# Exemplos de casos que são aceitos pela Márquina de Moore deste exercício\n",
    "print(moore(ft, estadoInicial, estadosFinais, fs, palavra = \"US$123,100.09\"))\n",
    "print(moore(ft, estadoInicial, estadosFinais, fs, palavra = \"US$6,254.18\"))\n",
    "print(moore(ft, estadoInicial, estadosFinais, fs, palavra = \"US$23.27\"))\n",
    "print(moore(ft, estadoInicial, estadosFinais, fs, palavra = \"US$8.53\"))\n",
    "print(moore(ft, estadoInicial, estadosFinais, fs, palavra = \"US$0.53\"))\n",
    "\n",
    "# Exemplos de casos que são aceitos pela Márquina de Moore deste exercício\n",
    "print(moore(ft, estadoInicial, estadosFinais, fs, palavra = \"US$,100.09\"))\n",
    "print(moore(ft, estadoInicial, estadosFinais, fs, palavra = \"U$6,254.18\"))\n",
    "print(moore(ft, estadoInicial, estadosFinais, fs, palavra = \"S$23.27\"))\n",
    "print(moore(ft, estadoInicial, estadosFinais, fs, palavra = \"$8.53\"))\n",
    "print(moore(ft, estadoInicial, estadosFinais, fs, palavra = \"R$0.53\"))\n",
    "print(moore(ft, estadoInicial, estadosFinais, fs, palavra = \"R$0.541\"))"
   ]
  }
 ],
 "metadata": {
  "kernelspec": {
   "display_name": "Python 3",
   "language": "python",
   "name": "python3"
  },
  "language_info": {
   "codemirror_mode": {
    "name": "ipython",
    "version": 3
   },
   "file_extension": ".py",
   "mimetype": "text/x-python",
   "name": "python",
   "nbconvert_exporter": "python",
   "pygments_lexer": "ipython3",
   "version": "3.6.4"
  }
 },
 "nbformat": 4,
 "nbformat_minor": 2
}
