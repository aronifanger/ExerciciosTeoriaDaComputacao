{
 "cells": [
  {
   "cell_type": "markdown",
   "metadata": {},
   "source": [
    "# Teoria da Computação\n",
    "\n",
    "### Quarta lista de exercícios - Máquina de Mealy e Máquina de Moore\n",
    "\n",
    "Criado por Aron Ifanger Maciel em 17 de abril de 2018"
   ]
  },
  {
   "cell_type": "markdown",
   "metadata": {},
   "source": [
    "### Exercício 1\n",
    "\n",
    "*Defina formalmente a função programa estendida para as Máquinas de Mealy e de Moore.*"
   ]
  },
  {
   "cell_type": "markdown",
   "metadata": {},
   "source": [
    "### Exercício 2\n",
    "\n",
    "*Desenvolva uma Máquina de Mealy e uma de Moore que realizem a conversão da repreentação de valores monetários de dólares para reais. Por exemplo, dado o valor UR\\$25,010.59 deve ser gravado o valor R\\$25.010,59 na fita de saída (atenção para o uso da vírgula e do ponto nos dois valores). Adicionalmente, os autômatos deve verificar se a entrada é um valor monetário válido.*"
   ]
  },
  {
   "cell_type": "markdown",
   "metadata": {},
   "source": [
    "### Exercício 3\n",
    "\n",
    "*Considere o exemplo de diálogo apresentado para a Máquina de Mealy:*\n",
    "    \n",
    "*a. Desenvolva uma Máquina de Moore que realize o mesmo processamento*"
   ]
  },
  {
   "cell_type": "markdown",
   "metadata": {},
   "source": [
    "### Exercício 4\n",
    "\n",
    "*Desenvolva um programa de computador que simule o processamento de qualquer Autômato Finito Determinístico, como segue:*\n",
    "\n",
    "*a. Entrada: função de transição $ \\delta $, estado inicial, conjunto de estados finais e as palavras a serem processadas;*\n",
    "   \n",
    "*b. Saída: condição de parada ACEITA/REJEITA e identificação do estado de parada.*\n",
    "    \n"
   ]
  },
  {
   "cell_type": "code",
   "execution_count": 210,
   "metadata": {
    "collapsed": true
   },
   "outputs": [],
   "source": [
    "class Estado(object):\n",
    "    \n",
    "    def __init__(self, nome, inicial = False, final = False):\n",
    "        self.nome = nome\n",
    "        self.transicao = dict()\n",
    "        self.inicial = inicial\n",
    "        self.final = final\n",
    "    \n",
    "    def criaTransicao(self, palavra, estado):\n",
    "        print(\"Criando transicao para o automato %s: {%s: %s}\"%(self.nome, palavra, estado.nome))\n",
    "        self.transicao.update({palavra:estado})\n",
    "        \n",
    "    def processa(self, palavra):\n",
    "        return(self.transicao[palavra])\n",
    "    \n",
    "    def imprime(self):\n",
    "        tipo = {(True, True): \"inicial e final\", (True, False): \"inicial\", (False, True): \"final\", (False, False): \"\"}\n",
    "        print(\"Estado %s %s. Mapa: %s\"%(self.nome, tipo[(self.inicial, self.final)], self.transicao))"
   ]
  },
  {
   "cell_type": "code",
   "execution_count": 211,
   "metadata": {
    "collapsed": false
   },
   "outputs": [
    {
     "name": "stdout",
     "output_type": "stream",
     "text": [
      "Criando transicao para o automato q1: {a: q2}\n",
      "Criando transicao para o automato q2: {b: q1}\n"
     ]
    },
    {
     "data": {
      "text/plain": [
       "'q1'"
      ]
     },
     "execution_count": 211,
     "metadata": {},
     "output_type": "execute_result"
    }
   ],
   "source": [
    "q1 = Estado(\"q1\")\n",
    "q2 = Estado(\"q2\")\n",
    "\n",
    "q1.criaTransicao(\"a\", q2)\n",
    "q2.criaTransicao(\"b\", q1)\n",
    "\n",
    "q1.processa(\"a\").processa(\"b\").nome"
   ]
  },
  {
   "cell_type": "code",
   "execution_count": 230,
   "metadata": {
    "collapsed": true
   },
   "outputs": [],
   "source": [
    "class Automato(object):\n",
    "    \n",
    "    def __init__(self, func_transicao, estado_inicial, estados_finais):\n",
    "        self.func_transicao = func_transicao\n",
    "        self.estado_inicial = estado_inicial\n",
    "        self.estados_finais = estados_finais\n",
    "        \n",
    "        self.nome_estados = list(set([estado_inicial] + [t for trans in list(func_transicao.values()) for t in list(trans.values())]))\n",
    "        self.estados = [Estado(n, n == estado_inicial, n in estados_finais) for n in self.nome_estados]\n",
    "        self.mapa_estados = dict(zip(self.nome_estados, self.estados))\n",
    "        \n",
    "        for estado in func_transicao:\n",
    "            for transicao in func_transicao[estado]:\n",
    "                self.mapa_estados[estado].criaTransicao(transicao, self.mapa_estados[func_transicao[estado][transicao]])\n",
    "        \n",
    "        self.estado_atual = mapa_estados[estado_inicial]\n",
    "        \n",
    "    def criaTransicoes(self, estado, dict_trans):\n",
    "        [estado.criaTransicao(t, dict_trans[t]) for t in dict_trans]\n",
    "    \n",
    "    def processa(self, palavra):\n",
    "        self.estado_atual = self.estado_atual.processa(palavra)"
   ]
  },
  {
   "cell_type": "code",
   "execution_count": 231,
   "metadata": {
    "collapsed": false
   },
   "outputs": [],
   "source": [
    "estado_inicial = \"q0\"\n",
    "estados_finais = [\"q1\", \"q2\"]\n",
    "func_transicao = {\n",
    "    \"q0\":{\"a\": \"q1\"},\n",
    "    \"q1\":{\"a\": \"q2\", \"b\": \"q2\"},\n",
    "    \"q2\":{\"b\": \"q1\"}\n",
    "}\n",
    "palavras = [\"a\", \"b\", \"b\"]"
   ]
  },
  {
   "cell_type": "code",
   "execution_count": 234,
   "metadata": {
    "collapsed": false
   },
   "outputs": [],
   "source": [
    "def processa_palavra(func_transicao, estado_inicial, estados_finais, palavras):\n",
    "    automato = Automato(func_transicao, estado_inicial, estados_finais)\n",
    "    \n",
    "    for palavra in palavras:\n",
    "        automato.processa(palavra)\n",
    "\n",
    "    return(\"ACEITA\" if automato.estado_atual.final else \"REJEITA\")"
   ]
  },
  {
   "cell_type": "code",
   "execution_count": 236,
   "metadata": {
    "collapsed": false
   },
   "outputs": [
    {
     "name": "stdout",
     "output_type": "stream",
     "text": [
      "Criando transicao para o automato q0: {a: q1}\n",
      "Criando transicao para o automato q1: {a: q2}\n",
      "Criando transicao para o automato q1: {b: q2}\n",
      "Criando transicao para o automato q2: {b: q1}\n"
     ]
    },
    {
     "ename": "KeyError",
     "evalue": "'a'",
     "output_type": "error",
     "traceback": [
      "\u001b[0;31m---------------------------------------------------------------------------\u001b[0m",
      "\u001b[0;31mKeyError\u001b[0m                                  Traceback (most recent call last)",
      "\u001b[0;32m<ipython-input-236-1dfa0e73a463>\u001b[0m in \u001b[0;36m<module>\u001b[0;34m()\u001b[0m\n\u001b[0;32m----> 1\u001b[0;31m \u001b[0mprocessa_palavra\u001b[0m\u001b[1;33m(\u001b[0m\u001b[0mfunc_transicao\u001b[0m\u001b[1;33m,\u001b[0m \u001b[0mestado_inicial\u001b[0m\u001b[1;33m,\u001b[0m \u001b[0mestados_finais\u001b[0m\u001b[1;33m,\u001b[0m \u001b[0mpalavras\u001b[0m\u001b[1;33m)\u001b[0m\u001b[1;33m\u001b[0m\u001b[0m\n\u001b[0m",
      "\u001b[0;32m<ipython-input-234-70b829eb796b>\u001b[0m in \u001b[0;36mprocessa_palavra\u001b[0;34m(func_transicao, estado_inicial, estados_finais, palavras)\u001b[0m\n\u001b[1;32m      3\u001b[0m \u001b[1;33m\u001b[0m\u001b[0m\n\u001b[1;32m      4\u001b[0m     \u001b[1;32mfor\u001b[0m \u001b[0mpalavra\u001b[0m \u001b[1;32min\u001b[0m \u001b[0mpalavras\u001b[0m\u001b[1;33m:\u001b[0m\u001b[1;33m\u001b[0m\u001b[0m\n\u001b[0;32m----> 5\u001b[0;31m         \u001b[0mautomato\u001b[0m\u001b[1;33m.\u001b[0m\u001b[0mprocessa\u001b[0m\u001b[1;33m(\u001b[0m\u001b[0mpalavra\u001b[0m\u001b[1;33m)\u001b[0m\u001b[1;33m\u001b[0m\u001b[0m\n\u001b[0m\u001b[1;32m      6\u001b[0m \u001b[1;33m\u001b[0m\u001b[0m\n\u001b[1;32m      7\u001b[0m     \u001b[1;32mreturn\u001b[0m\u001b[1;33m(\u001b[0m\u001b[1;34m\"ACEITA\"\u001b[0m \u001b[1;32mif\u001b[0m \u001b[0mautomato\u001b[0m\u001b[1;33m.\u001b[0m\u001b[0mestado_atual\u001b[0m\u001b[1;33m.\u001b[0m\u001b[0mfinal\u001b[0m \u001b[1;32melse\u001b[0m \u001b[1;34m\"REJEITA\"\u001b[0m\u001b[1;33m)\u001b[0m\u001b[1;33m\u001b[0m\u001b[0m\n",
      "\u001b[0;32m<ipython-input-230-9f4f96c28e2a>\u001b[0m in \u001b[0;36mprocessa\u001b[0;34m(self, palavra)\u001b[0m\n\u001b[1;32m     20\u001b[0m \u001b[1;33m\u001b[0m\u001b[0m\n\u001b[1;32m     21\u001b[0m     \u001b[1;32mdef\u001b[0m \u001b[0mprocessa\u001b[0m\u001b[1;33m(\u001b[0m\u001b[0mself\u001b[0m\u001b[1;33m,\u001b[0m \u001b[0mpalavra\u001b[0m\u001b[1;33m)\u001b[0m\u001b[1;33m:\u001b[0m\u001b[1;33m\u001b[0m\u001b[0m\n\u001b[0;32m---> 22\u001b[0;31m         \u001b[0mself\u001b[0m\u001b[1;33m.\u001b[0m\u001b[0mestado_atual\u001b[0m \u001b[1;33m=\u001b[0m \u001b[0mself\u001b[0m\u001b[1;33m.\u001b[0m\u001b[0mestado_atual\u001b[0m\u001b[1;33m.\u001b[0m\u001b[0mprocessa\u001b[0m\u001b[1;33m(\u001b[0m\u001b[0mpalavra\u001b[0m\u001b[1;33m)\u001b[0m\u001b[1;33m\u001b[0m\u001b[0m\n\u001b[0m",
      "\u001b[0;32m<ipython-input-210-a8756d75e709>\u001b[0m in \u001b[0;36mprocessa\u001b[0;34m(self, palavra)\u001b[0m\n\u001b[1;32m     15\u001b[0m \u001b[1;33m\u001b[0m\u001b[0m\n\u001b[1;32m     16\u001b[0m     \u001b[1;32mdef\u001b[0m \u001b[0mprocessa\u001b[0m\u001b[1;33m(\u001b[0m\u001b[0mself\u001b[0m\u001b[1;33m,\u001b[0m \u001b[0mpalavra\u001b[0m\u001b[1;33m)\u001b[0m\u001b[1;33m:\u001b[0m\u001b[1;33m\u001b[0m\u001b[0m\n\u001b[0;32m---> 17\u001b[0;31m         \u001b[1;32mreturn\u001b[0m\u001b[1;33m(\u001b[0m\u001b[0mself\u001b[0m\u001b[1;33m.\u001b[0m\u001b[0mtransicao\u001b[0m\u001b[1;33m[\u001b[0m\u001b[0mpalavra\u001b[0m\u001b[1;33m]\u001b[0m\u001b[1;33m)\u001b[0m\u001b[1;33m\u001b[0m\u001b[0m\n\u001b[0m\u001b[1;32m     18\u001b[0m \u001b[1;33m\u001b[0m\u001b[0m\n\u001b[1;32m     19\u001b[0m     \u001b[1;32mdef\u001b[0m \u001b[0mimprime\u001b[0m\u001b[1;33m(\u001b[0m\u001b[0mself\u001b[0m\u001b[1;33m)\u001b[0m\u001b[1;33m:\u001b[0m\u001b[1;33m\u001b[0m\u001b[0m\n",
      "\u001b[0;31mKeyError\u001b[0m: 'a'"
     ]
    }
   ],
   "source": [
    "processa_palavra(func_transicao, estado_inicial, estados_finais, palavras)"
   ]
  },
  {
   "cell_type": "code",
   "execution_count": null,
   "metadata": {
    "collapsed": true
   },
   "outputs": [],
   "source": []
  }
 ],
 "metadata": {
  "kernelspec": {
   "display_name": "Python 3",
   "language": "python",
   "name": "python3"
  },
  "language_info": {
   "codemirror_mode": {
    "name": "ipython",
    "version": 3
   },
   "file_extension": ".py",
   "mimetype": "text/x-python",
   "name": "python",
   "nbconvert_exporter": "python",
   "pygments_lexer": "ipython3",
   "version": "3.6.0"
  }
 },
 "nbformat": 4,
 "nbformat_minor": 2
}
